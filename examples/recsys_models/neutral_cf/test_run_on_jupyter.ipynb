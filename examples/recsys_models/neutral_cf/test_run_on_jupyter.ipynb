{
 "cells": [
  {
   "cell_type": "code",
   "execution_count": 7,
   "metadata": {},
   "outputs": [],
   "source": [
    "import os\n",
    "os.chdir(\"/Users/tien/Documents/PythonEnvs/pytorch/\")"
   ]
  },
  {
   "cell_type": "code",
   "execution_count": 8,
   "metadata": {},
   "outputs": [],
   "source": [
    "from jup.examples.recsys_models.neutral_cf.test_run import run "
   ]
  },
  {
   "cell_type": "code",
   "execution_count": 9,
   "metadata": {},
   "outputs": [
    {
     "name": "stderr",
     "output_type": "stream",
     "text": [
      "/Users/tien/Documents/PythonEnvs/pytorch/jup/examples/recsys_models/neutral_cf/neutral_cf.py:56: UserWarning: nn.init.xavier_uniform is now deprecated in favor of nn.init.xavier_uniform_.\n",
      "  torch.nn.init.xavier_uniform(layer.weight)\n"
     ]
    },
    {
     "name": "stdout",
     "output_type": "stream",
     "text": [
      "files\n",
      "{'movies':       movieId                               title  \\\n",
      "0           1                    Toy Story (1995)   \n",
      "1           2                      Jumanji (1995)   \n",
      "2           3             Grumpier Old Men (1995)   \n",
      "3           4            Waiting to Exhale (1995)   \n",
      "4           5  Father of the Bride Part II (1995)   \n",
      "...       ...                                 ...   \n",
      "3878     3948             Meet the Parents (2000)   \n",
      "3879     3949          Requiem for a Dream (2000)   \n",
      "3880     3950                    Tigerland (2000)   \n",
      "3881     3951             Two Family House (2000)   \n",
      "3882     3952               Contender, The (2000)   \n",
      "\n",
      "                            genres  \n",
      "0      Animation|Children's|Comedy  \n",
      "1     Adventure|Children's|Fantasy  \n",
      "2                   Comedy|Romance  \n",
      "3                     Comedy|Drama  \n",
      "4                           Comedy  \n",
      "...                            ...  \n",
      "3878                        Comedy  \n",
      "3879                         Drama  \n",
      "3880                         Drama  \n",
      "3881                         Drama  \n",
      "3882                Drama|Thriller  \n",
      "\n",
      "[3883 rows x 3 columns], 'ratings':          userId  movieId  rating  timestamp\n",
      "0             1     1193       5  978300760\n",
      "1             1      661       3  978302109\n",
      "2             1      914       3  978301968\n",
      "3             1     3408       4  978300275\n",
      "4             1     2355       5  978824291\n",
      "...         ...      ...     ...        ...\n",
      "1000204    6040     1091       1  956716541\n",
      "1000205    6040     1094       5  956704887\n",
      "1000206    6040      562       5  956704746\n",
      "1000207    6040     1096       4  956715648\n",
      "1000208    6040     1097       4  956715569\n",
      "\n",
      "[1000209 rows x 4 columns], 'users':         movieId  title genres\n",
      "1    F        1     10  48067\n",
      "2    M       56     16  70072\n",
      "3    M       25     15  55117\n",
      "4    M       45      7  02460\n",
      "5    M       25     20  55455\n",
      "...         ...    ...    ...\n",
      "6036 F       25     15  32603\n",
      "6037 F       45      1  76006\n",
      "6038 F       56      1  14706\n",
      "6039 F       45      0  01060\n",
      "6040 M       25      6  11106\n",
      "\n",
      "[6040 rows x 3 columns]}\n"
     ]
    },
    {
     "name": "stderr",
     "output_type": "stream",
     "text": [
      "Training Epochs:  50%|█████     | 1/2 [00:07<00:07,  7.94s/it]"
     ]
    },
    {
     "name": "stdout",
     "output_type": "stream",
     "text": [
      "epoch: 0 is done!\n"
     ]
    },
    {
     "name": "stderr",
     "output_type": "stream",
     "text": [
      "Training Epochs: 100%|██████████| 2/2 [00:17<00:00,  8.78s/it]"
     ]
    },
    {
     "name": "stdout",
     "output_type": "stream",
     "text": [
      "epoch: 1 is done!\n"
     ]
    },
    {
     "name": "stderr",
     "output_type": "stream",
     "text": [
      "\n"
     ]
    }
   ],
   "source": [
    "run()"
   ]
  },
  {
   "cell_type": "code",
   "execution_count": null,
   "metadata": {},
   "outputs": [],
   "source": []
  }
 ],
 "metadata": {
  "kernelspec": {
   "display_name": "Python 3",
   "language": "python",
   "name": "python3"
  },
  "language_info": {
   "codemirror_mode": {
    "name": "ipython",
    "version": 3
   },
   "file_extension": ".py",
   "mimetype": "text/x-python",
   "name": "python",
   "nbconvert_exporter": "python",
   "pygments_lexer": "ipython3",
   "version": "3.8.15"
  },
  "orig_nbformat": 4,
  "vscode": {
   "interpreter": {
    "hash": "34702dd390fd4fc9cf54421ef6e48a33a0e01434706512affc37171929b3d3dd"
   }
  }
 },
 "nbformat": 4,
 "nbformat_minor": 2
}
