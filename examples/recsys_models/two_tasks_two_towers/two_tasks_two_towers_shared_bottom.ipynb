{
 "cells": [
  {
   "cell_type": "code",
   "execution_count": 1,
   "metadata": {},
   "outputs": [],
   "source": [
    "import os\n",
    "os.chdir(\"/Users/tien/Documents/PythonEnvs/pytorch/\")"
   ]
  },
  {
   "cell_type": "code",
   "execution_count": 2,
   "metadata": {},
   "outputs": [],
   "source": [
    "import torch\n",
    "import torch.nn as nn"
   ]
  },
  {
   "cell_type": "code",
   "execution_count": 3,
   "metadata": {},
   "outputs": [],
   "source": [
    "from jup.recsys_models.data.short_video_understanding import read_data\n",
    "from jup.recsys_models.data.short_video_understanding import process_features"
   ]
  },
  {
   "cell_type": "code",
   "execution_count": 4,
   "metadata": {},
   "outputs": [],
   "source": [
    "from jup.recsys_models.features import SparseFeature\n",
    "from jup.recsys_models.features import DenseFeature"
   ]
  },
  {
   "cell_type": "code",
   "execution_count": 5,
   "metadata": {},
   "outputs": [],
   "source": [
    "from jup.recsys_models.core.inputs import get_feature_names"
   ]
  },
  {
   "cell_type": "code",
   "execution_count": 6,
   "metadata": {},
   "outputs": [],
   "source": [
    "from jup.recsys_models.models.multi_tasks_multi_towers import NTasksNTowersSharedBottom"
   ]
  },
  {
   "cell_type": "code",
   "execution_count": 7,
   "metadata": {},
   "outputs": [],
   "source": [
    "df = read_data()"
   ]
  },
  {
   "cell_type": "markdown",
   "metadata": {},
   "source": []
  },
  {
   "cell_type": "code",
   "execution_count": 8,
   "metadata": {},
   "outputs": [
    {
     "data": {
      "text/html": [
       "<div>\n",
       "<style scoped>\n",
       "    .dataframe tbody tr th:only-of-type {\n",
       "        vertical-align: middle;\n",
       "    }\n",
       "\n",
       "    .dataframe tbody tr th {\n",
       "        vertical-align: top;\n",
       "    }\n",
       "\n",
       "    .dataframe thead th {\n",
       "        text-align: right;\n",
       "    }\n",
       "</style>\n",
       "<table border=\"1\" class=\"dataframe\">\n",
       "  <thead>\n",
       "    <tr style=\"text-align: right;\">\n",
       "      <th></th>\n",
       "      <th>uid</th>\n",
       "      <th>user_city</th>\n",
       "      <th>item_id</th>\n",
       "      <th>author_id</th>\n",
       "      <th>item_city</th>\n",
       "      <th>channel</th>\n",
       "      <th>finish</th>\n",
       "      <th>like</th>\n",
       "      <th>music_id</th>\n",
       "      <th>device</th>\n",
       "      <th>time</th>\n",
       "      <th>duration_time</th>\n",
       "    </tr>\n",
       "  </thead>\n",
       "  <tbody>\n",
       "    <tr>\n",
       "      <th>0</th>\n",
       "      <td>37448</td>\n",
       "      <td>115</td>\n",
       "      <td>567569</td>\n",
       "      <td>44888</td>\n",
       "      <td>42</td>\n",
       "      <td>0</td>\n",
       "      <td>0</td>\n",
       "      <td>0</td>\n",
       "      <td>1699</td>\n",
       "      <td>43981</td>\n",
       "      <td>53085738314</td>\n",
       "      <td>9</td>\n",
       "    </tr>\n",
       "    <tr>\n",
       "      <th>1</th>\n",
       "      <td>8623</td>\n",
       "      <td>82</td>\n",
       "      <td>1209192</td>\n",
       "      <td>10098</td>\n",
       "      <td>106</td>\n",
       "      <td>0</td>\n",
       "      <td>1</td>\n",
       "      <td>0</td>\n",
       "      <td>-1</td>\n",
       "      <td>11996</td>\n",
       "      <td>53086444998</td>\n",
       "      <td>8</td>\n",
       "    </tr>\n",
       "    <tr>\n",
       "      <th>2</th>\n",
       "      <td>9629</td>\n",
       "      <td>31</td>\n",
       "      <td>1209193</td>\n",
       "      <td>184752</td>\n",
       "      <td>109</td>\n",
       "      <td>0</td>\n",
       "      <td>1</td>\n",
       "      <td>0</td>\n",
       "      <td>-1</td>\n",
       "      <td>32093</td>\n",
       "      <td>53085591140</td>\n",
       "      <td>5</td>\n",
       "    </tr>\n",
       "    <tr>\n",
       "      <th>3</th>\n",
       "      <td>52799</td>\n",
       "      <td>175</td>\n",
       "      <td>1209194</td>\n",
       "      <td>109629</td>\n",
       "      <td>101</td>\n",
       "      <td>0</td>\n",
       "      <td>1</td>\n",
       "      <td>0</td>\n",
       "      <td>-1</td>\n",
       "      <td>33106</td>\n",
       "      <td>53085915481</td>\n",
       "      <td>6</td>\n",
       "    </tr>\n",
       "    <tr>\n",
       "      <th>4</th>\n",
       "      <td>38008</td>\n",
       "      <td>-1</td>\n",
       "      <td>1209195</td>\n",
       "      <td>456237</td>\n",
       "      <td>11</td>\n",
       "      <td>1</td>\n",
       "      <td>0</td>\n",
       "      <td>1</td>\n",
       "      <td>56</td>\n",
       "      <td>18558</td>\n",
       "      <td>53085805030</td>\n",
       "      <td>9</td>\n",
       "    </tr>\n",
       "    <tr>\n",
       "      <th>...</th>\n",
       "      <td>...</td>\n",
       "      <td>...</td>\n",
       "      <td>...</td>\n",
       "      <td>...</td>\n",
       "      <td>...</td>\n",
       "      <td>...</td>\n",
       "      <td>...</td>\n",
       "      <td>...</td>\n",
       "      <td>...</td>\n",
       "      <td>...</td>\n",
       "      <td>...</td>\n",
       "      <td>...</td>\n",
       "    </tr>\n",
       "    <tr>\n",
       "      <th>195</th>\n",
       "      <td>31106</td>\n",
       "      <td>59</td>\n",
       "      <td>954053</td>\n",
       "      <td>83106</td>\n",
       "      <td>39</td>\n",
       "      <td>0</td>\n",
       "      <td>0</td>\n",
       "      <td>0</td>\n",
       "      <td>-1</td>\n",
       "      <td>44096</td>\n",
       "      <td>53085930569</td>\n",
       "      <td>19</td>\n",
       "    </tr>\n",
       "    <tr>\n",
       "      <th>196</th>\n",
       "      <td>7359</td>\n",
       "      <td>-1</td>\n",
       "      <td>1209531</td>\n",
       "      <td>52228</td>\n",
       "      <td>33</td>\n",
       "      <td>1</td>\n",
       "      <td>0</td>\n",
       "      <td>0</td>\n",
       "      <td>3190</td>\n",
       "      <td>44097</td>\n",
       "      <td>53085811152</td>\n",
       "      <td>9</td>\n",
       "    </tr>\n",
       "    <tr>\n",
       "      <th>197</th>\n",
       "      <td>57460</td>\n",
       "      <td>91</td>\n",
       "      <td>36211</td>\n",
       "      <td>54195</td>\n",
       "      <td>135</td>\n",
       "      <td>0</td>\n",
       "      <td>1</td>\n",
       "      <td>1</td>\n",
       "      <td>1059</td>\n",
       "      <td>44098</td>\n",
       "      <td>53085060377</td>\n",
       "      <td>9</td>\n",
       "    </tr>\n",
       "    <tr>\n",
       "      <th>198</th>\n",
       "      <td>26948</td>\n",
       "      <td>360</td>\n",
       "      <td>1209532</td>\n",
       "      <td>80933</td>\n",
       "      <td>4</td>\n",
       "      <td>0</td>\n",
       "      <td>0</td>\n",
       "      <td>0</td>\n",
       "      <td>63</td>\n",
       "      <td>11424</td>\n",
       "      <td>53086463275</td>\n",
       "      <td>21</td>\n",
       "    </tr>\n",
       "    <tr>\n",
       "      <th>199</th>\n",
       "      <td>31412</td>\n",
       "      <td>-1</td>\n",
       "      <td>1209533</td>\n",
       "      <td>135891</td>\n",
       "      <td>128</td>\n",
       "      <td>1</td>\n",
       "      <td>0</td>\n",
       "      <td>0</td>\n",
       "      <td>-1</td>\n",
       "      <td>44099</td>\n",
       "      <td>53081206772</td>\n",
       "      <td>34</td>\n",
       "    </tr>\n",
       "  </tbody>\n",
       "</table>\n",
       "<p>200 rows × 12 columns</p>\n",
       "</div>"
      ],
      "text/plain": [
       "       uid  user_city  item_id  author_id  item_city  channel  finish  like  \\\n",
       "0    37448        115   567569      44888         42        0       0     0   \n",
       "1     8623         82  1209192      10098        106        0       1     0   \n",
       "2     9629         31  1209193     184752        109        0       1     0   \n",
       "3    52799        175  1209194     109629        101        0       1     0   \n",
       "4    38008         -1  1209195     456237         11        1       0     1   \n",
       "..     ...        ...      ...        ...        ...      ...     ...   ...   \n",
       "195  31106         59   954053      83106         39        0       0     0   \n",
       "196   7359         -1  1209531      52228         33        1       0     0   \n",
       "197  57460         91    36211      54195        135        0       1     1   \n",
       "198  26948        360  1209532      80933          4        0       0     0   \n",
       "199  31412         -1  1209533     135891        128        1       0     0   \n",
       "\n",
       "     music_id  device         time  duration_time  \n",
       "0        1699   43981  53085738314              9  \n",
       "1          -1   11996  53086444998              8  \n",
       "2          -1   32093  53085591140              5  \n",
       "3          -1   33106  53085915481              6  \n",
       "4          56   18558  53085805030              9  \n",
       "..        ...     ...          ...            ...  \n",
       "195        -1   44096  53085930569             19  \n",
       "196      3190   44097  53085811152              9  \n",
       "197      1059   44098  53085060377              9  \n",
       "198        63   11424  53086463275             21  \n",
       "199        -1   44099  53081206772             34  \n",
       "\n",
       "[200 rows x 12 columns]"
      ]
     },
     "execution_count": 8,
     "metadata": {},
     "output_type": "execute_result"
    }
   ],
   "source": [
    "df"
   ]
  },
  {
   "cell_type": "code",
   "execution_count": 9,
   "metadata": {},
   "outputs": [],
   "source": [
    "sparse_features = [\"uid\", \"user_city\", \"item_id\", \"author_id\", \"item_city\", \"channel\", \"music_id\", \"device\"]\n",
    "dense_features = [\"duration_time\"]\n",
    "\n",
    "processed_df = process_features(df, sparse_features, dense_features)"
   ]
  },
  {
   "cell_type": "code",
   "execution_count": 10,
   "metadata": {},
   "outputs": [
    {
     "data": {
      "text/html": [
       "<div>\n",
       "<style scoped>\n",
       "    .dataframe tbody tr th:only-of-type {\n",
       "        vertical-align: middle;\n",
       "    }\n",
       "\n",
       "    .dataframe tbody tr th {\n",
       "        vertical-align: top;\n",
       "    }\n",
       "\n",
       "    .dataframe thead th {\n",
       "        text-align: right;\n",
       "    }\n",
       "</style>\n",
       "<table border=\"1\" class=\"dataframe\">\n",
       "  <thead>\n",
       "    <tr style=\"text-align: right;\">\n",
       "      <th></th>\n",
       "      <th>uid</th>\n",
       "      <th>user_city</th>\n",
       "      <th>item_id</th>\n",
       "      <th>author_id</th>\n",
       "      <th>item_city</th>\n",
       "      <th>channel</th>\n",
       "      <th>finish</th>\n",
       "      <th>like</th>\n",
       "      <th>music_id</th>\n",
       "      <th>device</th>\n",
       "      <th>time</th>\n",
       "      <th>duration_time</th>\n",
       "    </tr>\n",
       "  </thead>\n",
       "  <tbody>\n",
       "    <tr>\n",
       "      <th>0</th>\n",
       "      <td>141</td>\n",
       "      <td>56</td>\n",
       "      <td>75</td>\n",
       "      <td>105</td>\n",
       "      <td>34</td>\n",
       "      <td>0</td>\n",
       "      <td>0</td>\n",
       "      <td>0</td>\n",
       "      <td>44</td>\n",
       "      <td>165</td>\n",
       "      <td>53085738314</td>\n",
       "      <td>0.175</td>\n",
       "    </tr>\n",
       "    <tr>\n",
       "      <th>1</th>\n",
       "      <td>49</td>\n",
       "      <td>38</td>\n",
       "      <td>100</td>\n",
       "      <td>45</td>\n",
       "      <td>62</td>\n",
       "      <td>0</td>\n",
       "      <td>1</td>\n",
       "      <td>0</td>\n",
       "      <td>0</td>\n",
       "      <td>70</td>\n",
       "      <td>53086444998</td>\n",
       "      <td>0.150</td>\n",
       "    </tr>\n",
       "    <tr>\n",
       "      <th>2</th>\n",
       "      <td>52</td>\n",
       "      <td>20</td>\n",
       "      <td>101</td>\n",
       "      <td>161</td>\n",
       "      <td>64</td>\n",
       "      <td>0</td>\n",
       "      <td>1</td>\n",
       "      <td>0</td>\n",
       "      <td>0</td>\n",
       "      <td>134</td>\n",
       "      <td>53085591140</td>\n",
       "      <td>0.075</td>\n",
       "    </tr>\n",
       "    <tr>\n",
       "      <th>3</th>\n",
       "      <td>172</td>\n",
       "      <td>75</td>\n",
       "      <td>102</td>\n",
       "      <td>147</td>\n",
       "      <td>59</td>\n",
       "      <td>0</td>\n",
       "      <td>1</td>\n",
       "      <td>0</td>\n",
       "      <td>0</td>\n",
       "      <td>138</td>\n",
       "      <td>53085915481</td>\n",
       "      <td>0.100</td>\n",
       "    </tr>\n",
       "    <tr>\n",
       "      <th>4</th>\n",
       "      <td>144</td>\n",
       "      <td>0</td>\n",
       "      <td>103</td>\n",
       "      <td>179</td>\n",
       "      <td>12</td>\n",
       "      <td>1</td>\n",
       "      <td>0</td>\n",
       "      <td>1</td>\n",
       "      <td>7</td>\n",
       "      <td>90</td>\n",
       "      <td>53085805030</td>\n",
       "      <td>0.175</td>\n",
       "    </tr>\n",
       "    <tr>\n",
       "      <th>...</th>\n",
       "      <td>...</td>\n",
       "      <td>...</td>\n",
       "      <td>...</td>\n",
       "      <td>...</td>\n",
       "      <td>...</td>\n",
       "      <td>...</td>\n",
       "      <td>...</td>\n",
       "      <td>...</td>\n",
       "      <td>...</td>\n",
       "      <td>...</td>\n",
       "      <td>...</td>\n",
       "      <td>...</td>\n",
       "    </tr>\n",
       "    <tr>\n",
       "      <th>195</th>\n",
       "      <td>112</td>\n",
       "      <td>30</td>\n",
       "      <td>93</td>\n",
       "      <td>140</td>\n",
       "      <td>32</td>\n",
       "      <td>0</td>\n",
       "      <td>0</td>\n",
       "      <td>0</td>\n",
       "      <td>0</td>\n",
       "      <td>194</td>\n",
       "      <td>53085930569</td>\n",
       "      <td>0.425</td>\n",
       "    </tr>\n",
       "    <tr>\n",
       "      <th>196</th>\n",
       "      <td>40</td>\n",
       "      <td>0</td>\n",
       "      <td>196</td>\n",
       "      <td>114</td>\n",
       "      <td>28</td>\n",
       "      <td>1</td>\n",
       "      <td>0</td>\n",
       "      <td>0</td>\n",
       "      <td>52</td>\n",
       "      <td>195</td>\n",
       "      <td>53085811152</td>\n",
       "      <td>0.175</td>\n",
       "    </tr>\n",
       "    <tr>\n",
       "      <th>197</th>\n",
       "      <td>197</td>\n",
       "      <td>42</td>\n",
       "      <td>22</td>\n",
       "      <td>115</td>\n",
       "      <td>77</td>\n",
       "      <td>0</td>\n",
       "      <td>1</td>\n",
       "      <td>1</td>\n",
       "      <td>38</td>\n",
       "      <td>196</td>\n",
       "      <td>53085060377</td>\n",
       "      <td>0.175</td>\n",
       "    </tr>\n",
       "    <tr>\n",
       "      <th>198</th>\n",
       "      <td>102</td>\n",
       "      <td>106</td>\n",
       "      <td>197</td>\n",
       "      <td>139</td>\n",
       "      <td>5</td>\n",
       "      <td>0</td>\n",
       "      <td>0</td>\n",
       "      <td>0</td>\n",
       "      <td>9</td>\n",
       "      <td>67</td>\n",
       "      <td>53086463275</td>\n",
       "      <td>0.475</td>\n",
       "    </tr>\n",
       "    <tr>\n",
       "      <th>199</th>\n",
       "      <td>115</td>\n",
       "      <td>0</td>\n",
       "      <td>198</td>\n",
       "      <td>153</td>\n",
       "      <td>75</td>\n",
       "      <td>1</td>\n",
       "      <td>0</td>\n",
       "      <td>0</td>\n",
       "      <td>0</td>\n",
       "      <td>197</td>\n",
       "      <td>53081206772</td>\n",
       "      <td>0.800</td>\n",
       "    </tr>\n",
       "  </tbody>\n",
       "</table>\n",
       "<p>200 rows × 12 columns</p>\n",
       "</div>"
      ],
      "text/plain": [
       "     uid  user_city  item_id  author_id  item_city  channel  finish  like  \\\n",
       "0    141         56       75        105         34        0       0     0   \n",
       "1     49         38      100         45         62        0       1     0   \n",
       "2     52         20      101        161         64        0       1     0   \n",
       "3    172         75      102        147         59        0       1     0   \n",
       "4    144          0      103        179         12        1       0     1   \n",
       "..   ...        ...      ...        ...        ...      ...     ...   ...   \n",
       "195  112         30       93        140         32        0       0     0   \n",
       "196   40          0      196        114         28        1       0     0   \n",
       "197  197         42       22        115         77        0       1     1   \n",
       "198  102        106      197        139          5        0       0     0   \n",
       "199  115          0      198        153         75        1       0     0   \n",
       "\n",
       "     music_id  device         time  duration_time  \n",
       "0          44     165  53085738314          0.175  \n",
       "1           0      70  53086444998          0.150  \n",
       "2           0     134  53085591140          0.075  \n",
       "3           0     138  53085915481          0.100  \n",
       "4           7      90  53085805030          0.175  \n",
       "..        ...     ...          ...            ...  \n",
       "195         0     194  53085930569          0.425  \n",
       "196        52     195  53085811152          0.175  \n",
       "197        38     196  53085060377          0.175  \n",
       "198         9      67  53086463275          0.475  \n",
       "199         0     197  53081206772          0.800  \n",
       "\n",
       "[200 rows x 12 columns]"
      ]
     },
     "execution_count": 10,
     "metadata": {},
     "output_type": "execute_result"
    }
   ],
   "source": [
    "processed_df"
   ]
  },
  {
   "cell_type": "code",
   "execution_count": 11,
   "metadata": {},
   "outputs": [],
   "source": [
    "# Need to figure out what + 1 here\n",
    "fixlen_feature_columns = ([\n",
    "    SparseFeature(feat, vocabulary_size=processed_df[feat].max() + 1, embedding_dim=4) for feat in sparse_features] + \n",
    "    [DenseFeature(feat, 1, )for feat in dense_features])"
   ]
  },
  {
   "cell_type": "code",
   "execution_count": 12,
   "metadata": {},
   "outputs": [
    {
     "data": {
      "text/plain": [
       "[SparseFeature(name='uid', vocabulary_size=198, embedding_dim=4, embedding_name='uid', use_hash=False, dtype='int32'),\n",
       " SparseFeature(name='user_city', vocabulary_size=107, embedding_dim=4, embedding_name='user_city', use_hash=False, dtype='int32'),\n",
       " SparseFeature(name='item_id', vocabulary_size=199, embedding_dim=4, embedding_name='item_id', use_hash=False, dtype='int32'),\n",
       " SparseFeature(name='author_id', vocabulary_size=199, embedding_dim=4, embedding_name='author_id', use_hash=False, dtype='int32'),\n",
       " SparseFeature(name='item_city', vocabulary_size=109, embedding_dim=4, embedding_name='item_city', use_hash=False, dtype='int32'),\n",
       " SparseFeature(name='channel', vocabulary_size=4, embedding_dim=4, embedding_name='channel', use_hash=False, dtype='int32'),\n",
       " SparseFeature(name='music_id', vocabulary_size=72, embedding_dim=4, embedding_name='music_id', use_hash=False, dtype='int32'),\n",
       " SparseFeature(name='device', vocabulary_size=198, embedding_dim=4, embedding_name='device', use_hash=False, dtype='int32'),\n",
       " DenseFeature(name='duration_time', dimension=1, dtype='float32')]"
      ]
     },
     "execution_count": 12,
     "metadata": {},
     "output_type": "execute_result"
    }
   ],
   "source": [
    "fixlen_feature_columns"
   ]
  },
  {
   "cell_type": "code",
   "execution_count": 13,
   "metadata": {},
   "outputs": [],
   "source": [
    "dnn_feature_columns = fixlen_feature_columns"
   ]
  },
  {
   "cell_type": "code",
   "execution_count": 14,
   "metadata": {},
   "outputs": [
    {
     "data": {
      "text/plain": [
       "[SparseFeature(name='uid', vocabulary_size=198, embedding_dim=4, embedding_name='uid', use_hash=False, dtype='int32'),\n",
       " SparseFeature(name='user_city', vocabulary_size=107, embedding_dim=4, embedding_name='user_city', use_hash=False, dtype='int32'),\n",
       " SparseFeature(name='item_id', vocabulary_size=199, embedding_dim=4, embedding_name='item_id', use_hash=False, dtype='int32'),\n",
       " SparseFeature(name='author_id', vocabulary_size=199, embedding_dim=4, embedding_name='author_id', use_hash=False, dtype='int32'),\n",
       " SparseFeature(name='item_city', vocabulary_size=109, embedding_dim=4, embedding_name='item_city', use_hash=False, dtype='int32'),\n",
       " SparseFeature(name='channel', vocabulary_size=4, embedding_dim=4, embedding_name='channel', use_hash=False, dtype='int32'),\n",
       " SparseFeature(name='music_id', vocabulary_size=72, embedding_dim=4, embedding_name='music_id', use_hash=False, dtype='int32'),\n",
       " SparseFeature(name='device', vocabulary_size=198, embedding_dim=4, embedding_name='device', use_hash=False, dtype='int32'),\n",
       " DenseFeature(name='duration_time', dimension=1, dtype='float32')]"
      ]
     },
     "execution_count": 14,
     "metadata": {},
     "output_type": "execute_result"
    }
   ],
   "source": [
    "dnn_feature_columns"
   ]
  },
  {
   "cell_type": "code",
   "execution_count": 15,
   "metadata": {},
   "outputs": [],
   "source": [
    "feature_names = get_feature_names(dnn_feature_columns)"
   ]
  },
  {
   "cell_type": "code",
   "execution_count": 16,
   "metadata": {},
   "outputs": [
    {
     "data": {
      "text/plain": [
       "['uid',\n",
       " 'user_city',\n",
       " 'item_id',\n",
       " 'author_id',\n",
       " 'item_city',\n",
       " 'channel',\n",
       " 'music_id',\n",
       " 'device',\n",
       " 'duration_time']"
      ]
     },
     "execution_count": 16,
     "metadata": {},
     "output_type": "execute_result"
    }
   ],
   "source": [
    "feature_names"
   ]
  },
  {
   "cell_type": "code",
   "execution_count": 17,
   "metadata": {},
   "outputs": [
    {
     "data": {
      "text/plain": [
       "(200, 12)"
      ]
     },
     "execution_count": 17,
     "metadata": {},
     "output_type": "execute_result"
    }
   ],
   "source": [
    "df.shape"
   ]
  },
  {
   "cell_type": "code",
   "execution_count": 18,
   "metadata": {},
   "outputs": [],
   "source": [
    "split_boundary = int(df.shape[0] * 0.8)"
   ]
  },
  {
   "cell_type": "code",
   "execution_count": 19,
   "metadata": {},
   "outputs": [],
   "source": [
    "train, test = df[:split_boundary], df[split_boundary:]\n",
    "# not the train and test contain both values and labels\n",
    "# thus we need to run the following command to extract only train inputs\n",
    "\n",
    "train_model_input = {name: train[name] for name in feature_names}\n",
    "test_model_input = {name: test[name] for name in feature_names}"
   ]
  },
  {
   "cell_type": "code",
   "execution_count": 20,
   "metadata": {},
   "outputs": [
    {
     "data": {
      "text/plain": [
       "numpy.ndarray"
      ]
     },
     "execution_count": 20,
     "metadata": {},
     "output_type": "execute_result"
    }
   ],
   "source": [
    "type(train[['finish', 'like']].values)"
   ]
  },
  {
   "cell_type": "code",
   "execution_count": 21,
   "metadata": {},
   "outputs": [
    {
     "data": {
      "text/plain": [
       "pandas.core.series.Series"
      ]
     },
     "execution_count": 21,
     "metadata": {},
     "output_type": "execute_result"
    }
   ],
   "source": [
    "type(train_model_input['uid'])"
   ]
  },
  {
   "cell_type": "code",
   "execution_count": 22,
   "metadata": {},
   "outputs": [],
   "source": [
    "# Up till now, train model input is dictionary: name -> pandas.core.series.Series"
   ]
  },
  {
   "cell_type": "code",
   "execution_count": 23,
   "metadata": {},
   "outputs": [],
   "source": [
    "target = ['finish', 'like']"
   ]
  },
  {
   "cell_type": "code",
   "execution_count": 24,
   "metadata": {},
   "outputs": [
    {
     "ename": "TypeError",
     "evalue": "__init__() got an unexpected keyword argument 'dnn_feature_columns'",
     "output_type": "error",
     "traceback": [
      "\u001b[0;31m---------------------------------------------------------------------------\u001b[0m",
      "\u001b[0;31mTypeError\u001b[0m                                 Traceback (most recent call last)",
      "Cell \u001b[0;32mIn[24], line 1\u001b[0m\n\u001b[0;32m----> 1\u001b[0m model \u001b[39m=\u001b[39m NTasksNTowersSharedBottom(\n\u001b[1;32m      2\u001b[0m     dnn_feature_columns\u001b[39m=\u001b[39;49mdnn_feature_columns,\n\u001b[1;32m      3\u001b[0m     task_types\u001b[39m=\u001b[39;49m[\u001b[39m'\u001b[39;49m\u001b[39mbinary\u001b[39;49m\u001b[39m'\u001b[39;49m, \u001b[39m'\u001b[39;49m\u001b[39mbinary\u001b[39;49m\u001b[39m'\u001b[39;49m],\n\u001b[1;32m      4\u001b[0m     l2_reg_embedding\u001b[39m=\u001b[39;49m\u001b[39m1e-5\u001b[39;49m,\n\u001b[1;32m      5\u001b[0m     task_names\u001b[39m=\u001b[39;49m[\u001b[39m'\u001b[39;49m\u001b[39mfinish\u001b[39;49m\u001b[39m'\u001b[39;49m, \u001b[39m'\u001b[39;49m\u001b[39mlike\u001b[39;49m\u001b[39m'\u001b[39;49m],\n\u001b[1;32m      6\u001b[0m     device\u001b[39m=\u001b[39;49m\u001b[39m'\u001b[39;49m\u001b[39mcpu\u001b[39;49m\u001b[39m'\u001b[39;49m\n\u001b[1;32m      7\u001b[0m )\n",
      "\u001b[0;31mTypeError\u001b[0m: __init__() got an unexpected keyword argument 'dnn_feature_columns'"
     ]
    }
   ],
   "source": [
    "model = NTasksNTowersSharedBottom(\n",
    "    features=dnn_feature_columns,\n",
    "    task_types=['binary', 'binary'],\n",
    "    l2_reg_embedding=1e-5,\n",
    "    task_names=['finish', 'like'],\n",
    "    device='cpu',\n",
    "    tensorboard_path=\"jup/examples/recsys_models/two_tasks_two_towers/runs/\"\n",
    ")"
   ]
  },
  {
   "cell_type": "code",
   "execution_count": null,
   "metadata": {},
   "outputs": [],
   "source": [
    "model.set_optimizer('adagrad')"
   ]
  },
  {
   "cell_type": "code",
   "execution_count": null,
   "metadata": {},
   "outputs": [],
   "source": [
    "model.set_loss_function(loss=[\"binary_cross_entropy\", \"binary_cross_entropy\"])"
   ]
  },
  {
   "cell_type": "code",
   "execution_count": null,
   "metadata": {},
   "outputs": [],
   "source": [
    "model.set_metrics(metrics=['binary_cross_entropy'])"
   ]
  },
  {
   "cell_type": "code",
   "execution_count": null,
   "metadata": {},
   "outputs": [],
   "source": [
    "model.fit(train_model_input, train[target].values, batch_size=2, epochs=10, verbose=2)"
   ]
  },
  {
   "cell_type": "code",
   "execution_count": null,
   "metadata": {},
   "outputs": [],
   "source": [
    "print(model.feature_col_index)"
   ]
  },
  {
   "cell_type": "code",
   "execution_count": null,
   "metadata": {},
   "outputs": [],
   "source": [
    "print(len(model.tower_dnn_hidden_units))"
   ]
  },
  {
   "cell_type": "code",
   "execution_count": null,
   "metadata": {},
   "outputs": [],
   "source": [
    "model.tower_dnn"
   ]
  },
  {
   "cell_type": "code",
   "execution_count": null,
   "metadata": {},
   "outputs": [],
   "source": [
    "model.outs"
   ]
  },
  {
   "cell_type": "code",
   "execution_count": null,
   "metadata": {},
   "outputs": [],
   "source": []
  }
 ],
 "metadata": {
  "kernelspec": {
   "display_name": "Python 3",
   "language": "python",
   "name": "python3"
  },
  "language_info": {
   "codemirror_mode": {
    "name": "ipython",
    "version": 3
   },
   "file_extension": ".py",
   "mimetype": "text/x-python",
   "name": "python",
   "nbconvert_exporter": "python",
   "pygments_lexer": "ipython3",
   "version": "3.8.15"
  },
  "orig_nbformat": 4,
  "vscode": {
   "interpreter": {
    "hash": "34702dd390fd4fc9cf54421ef6e48a33a0e01434706512affc37171929b3d3dd"
   }
  }
 },
 "nbformat": 4,
 "nbformat_minor": 2
}
