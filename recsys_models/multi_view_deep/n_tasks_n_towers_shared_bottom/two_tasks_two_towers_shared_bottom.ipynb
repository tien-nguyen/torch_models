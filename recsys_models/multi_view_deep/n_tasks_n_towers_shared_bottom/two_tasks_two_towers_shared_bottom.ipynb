{
 "cells": [
  {
   "cell_type": "code",
   "execution_count": 2,
   "metadata": {},
   "outputs": [],
   "source": [
    "import os\n",
    "os.chdir(\"/Users/tien/Documents/PythonEnvs/pytorch/\")"
   ]
  },
  {
   "cell_type": "code",
   "execution_count": null,
   "metadata": {},
   "outputs": [],
   "source": [
    "import torch\n",
    "import torch.nn as nn"
   ]
  },
  {
   "cell_type": "code",
   "execution_count": null,
   "metadata": {},
   "outputs": [],
   "source": [
    "from jup.recsys_models.data.short_video_understanding import read_data\n",
    "from jup.recsys_models.data.short_video_understanding import process_features"
   ]
  },
  {
   "cell_type": "code",
   "execution_count": null,
   "metadata": {},
   "outputs": [],
   "source": [
    "from jup.recsys_models.features import SparseFeature\n",
    "from jup.recsys_models.features import DenseFeature"
   ]
  },
  {
   "cell_type": "code",
   "execution_count": null,
   "metadata": {},
   "outputs": [],
   "source": [
    "from jup.recsys_models.core.inputs import get_feature_names"
   ]
  },
  {
   "cell_type": "code",
   "execution_count": 3,
   "metadata": {},
   "outputs": [
    {
     "ename": "ModuleNotFoundError",
     "evalue": "No module named 'jup.recsys_models.multi_view_deep.n_task_two_tower_shared_bottom'",
     "output_type": "error",
     "traceback": [
      "\u001b[0;31m---------------------------------------------------------------------------\u001b[0m",
      "\u001b[0;31mModuleNotFoundError\u001b[0m                       Traceback (most recent call last)",
      "Cell \u001b[0;32mIn[3], line 1\u001b[0m\n\u001b[0;32m----> 1\u001b[0m \u001b[39mfrom\u001b[39;00m \u001b[39mjup\u001b[39;00m\u001b[39m.\u001b[39;00m\u001b[39mrecsys_models\u001b[39;00m\u001b[39m.\u001b[39;00m\u001b[39mmulti_view_deep\u001b[39;00m\u001b[39m.\u001b[39;00m\u001b[39mn_tasks_n_towers_shared_bottom\u001b[39;00m \u001b[39mimport\u001b[39;00m NTasksNTowersSharedBottom\n",
      "File \u001b[0;32m~/Documents/PythonEnvs/pytorch/jup/recsys_models/multi_view_deep/n_tasks_n_towers_shared_bottom/__init__.py:1\u001b[0m\n\u001b[0;32m----> 1\u001b[0m \u001b[39mfrom\u001b[39;00m \u001b[39mjup\u001b[39;00m\u001b[39m.\u001b[39;00m\u001b[39mrecsys_models\u001b[39;00m\u001b[39m.\u001b[39;00m\u001b[39mmulti_view_deep\u001b[39;00m\u001b[39m.\u001b[39;00m\u001b[39mn_task_two_tower_shared_bottom\u001b[39;00m\u001b[39m.\u001b[39;00m\u001b[39mn_tasks_shared_bottom\u001b[39;00m \u001b[39mimport\u001b[39;00m NTasksNTowersSharedBottom\n",
      "\u001b[0;31mModuleNotFoundError\u001b[0m: No module named 'jup.recsys_models.multi_view_deep.n_task_two_tower_shared_bottom'"
     ]
    }
   ],
   "source": [
    "from jup.recsys_models.multi_view_deep.n_tasks_n_towers_shared_bottom import NTasksNTowersSharedBottom"
   ]
  },
  {
   "cell_type": "code",
   "execution_count": null,
   "metadata": {},
   "outputs": [],
   "source": [
    "df = read_data()"
   ]
  },
  {
   "cell_type": "markdown",
   "metadata": {},
   "source": []
  },
  {
   "cell_type": "code",
   "execution_count": null,
   "metadata": {},
   "outputs": [],
   "source": [
    "df"
   ]
  },
  {
   "cell_type": "code",
   "execution_count": null,
   "metadata": {},
   "outputs": [],
   "source": [
    "sparse_features = [\"uid\", \"user_city\", \"item_id\", \"author_id\", \"item_city\", \"channel\", \"music_id\", \"device\"]\n",
    "dense_features = [\"duration_time\"]\n",
    "\n",
    "processed_df = process_features(df, sparse_features, dense_features)"
   ]
  },
  {
   "cell_type": "code",
   "execution_count": null,
   "metadata": {},
   "outputs": [],
   "source": [
    "processed_df"
   ]
  },
  {
   "cell_type": "code",
   "execution_count": null,
   "metadata": {},
   "outputs": [],
   "source": [
    "# Need to figure out what + 1 here\n",
    "fixlen_feature_columns = ([\n",
    "    SparseFeature(feat, vocabulary_size=processed_df[feat].max() + 1, embedding_dim=4) for feat in sparse_features] + \n",
    "    [DenseFeature(feat, 1, )for feat in dense_features])"
   ]
  },
  {
   "cell_type": "code",
   "execution_count": null,
   "metadata": {},
   "outputs": [],
   "source": [
    "fixlen_feature_columns"
   ]
  },
  {
   "cell_type": "code",
   "execution_count": null,
   "metadata": {},
   "outputs": [],
   "source": [
    "dnn_feature_columns = fixlen_feature_columns"
   ]
  },
  {
   "cell_type": "code",
   "execution_count": null,
   "metadata": {},
   "outputs": [],
   "source": [
    "dnn_feature_columns"
   ]
  },
  {
   "cell_type": "code",
   "execution_count": null,
   "metadata": {},
   "outputs": [],
   "source": [
    "feature_names = get_feature_names(dnn_feature_columns)"
   ]
  },
  {
   "cell_type": "code",
   "execution_count": null,
   "metadata": {},
   "outputs": [],
   "source": [
    "feature_names"
   ]
  },
  {
   "cell_type": "code",
   "execution_count": null,
   "metadata": {},
   "outputs": [],
   "source": [
    "df.shape"
   ]
  },
  {
   "cell_type": "code",
   "execution_count": null,
   "metadata": {},
   "outputs": [],
   "source": [
    "split_boundary = int(df.shape[0] * 0.8)"
   ]
  },
  {
   "cell_type": "code",
   "execution_count": null,
   "metadata": {},
   "outputs": [],
   "source": [
    "train, test = df[:split_boundary], df[split_boundary:]\n",
    "# not the train and test contain both values and labels\n",
    "# thus we need to run the following command to extract only train inputs\n",
    "\n",
    "train_model_input = {name: train[name] for name in feature_names}\n",
    "test_model_input = {name: test[name] for name in feature_names}"
   ]
  },
  {
   "cell_type": "code",
   "execution_count": null,
   "metadata": {},
   "outputs": [],
   "source": [
    "type(train[['finish', 'like']].values)"
   ]
  },
  {
   "cell_type": "code",
   "execution_count": null,
   "metadata": {},
   "outputs": [],
   "source": [
    "type(train_model_input['uid'])"
   ]
  },
  {
   "cell_type": "code",
   "execution_count": null,
   "metadata": {},
   "outputs": [],
   "source": [
    "# Up till now, train model input is dictionary: name -> pandas.core.series.Series"
   ]
  },
  {
   "cell_type": "code",
   "execution_count": null,
   "metadata": {},
   "outputs": [],
   "source": [
    "target = ['finish', 'like']"
   ]
  },
  {
   "cell_type": "code",
   "execution_count": null,
   "metadata": {},
   "outputs": [],
   "source": [
    "model = NTasksNTowersSharedBottom(\n",
    "    dnn_feature_columns=dnn_feature_columns,\n",
    "    task_types=['binary', 'binary'],\n",
    "    l2_reg_embedding=1e-5,\n",
    "    task_names=['finish', 'like'],\n",
    "    device='cpu'\n",
    ")"
   ]
  },
  {
   "cell_type": "code",
   "execution_count": null,
   "metadata": {},
   "outputs": [],
   "source": [
    "model.set_optimizer('adagrad')"
   ]
  },
  {
   "cell_type": "code",
   "execution_count": null,
   "metadata": {},
   "outputs": [],
   "source": [
    "model.set_loss_function(loss=[\"binary_cross_entropy\", \"binary_cross_entropy\"])"
   ]
  },
  {
   "cell_type": "code",
   "execution_count": null,
   "metadata": {},
   "outputs": [],
   "source": [
    "model.set_metrics(metrics=['binary_cross_entropy'])"
   ]
  },
  {
   "cell_type": "code",
   "execution_count": null,
   "metadata": {},
   "outputs": [],
   "source": [
    "model.fit(train_model_input, train[target].values, batch_size=256, epochs=10, verbose=2)"
   ]
  },
  {
   "cell_type": "code",
   "execution_count": null,
   "metadata": {},
   "outputs": [],
   "source": [
    "print(model.feature_col_index)"
   ]
  },
  {
   "cell_type": "code",
   "execution_count": null,
   "metadata": {},
   "outputs": [],
   "source": [
    "print(len(model.tower_dnn_hidden_units))"
   ]
  },
  {
   "cell_type": "code",
   "execution_count": null,
   "metadata": {},
   "outputs": [],
   "source": [
    "model.tower_dnn"
   ]
  },
  {
   "cell_type": "code",
   "execution_count": null,
   "metadata": {},
   "outputs": [],
   "source": [
    "model.outs"
   ]
  },
  {
   "cell_type": "code",
   "execution_count": null,
   "metadata": {},
   "outputs": [],
   "source": []
  }
 ],
 "metadata": {
  "kernelspec": {
   "display_name": "Python 3",
   "language": "python",
   "name": "python3"
  },
  "language_info": {
   "codemirror_mode": {
    "name": "ipython",
    "version": 3
   },
   "file_extension": ".py",
   "mimetype": "text/x-python",
   "name": "python",
   "nbconvert_exporter": "python",
   "pygments_lexer": "ipython3",
   "version": "3.8.15"
  },
  "orig_nbformat": 4,
  "vscode": {
   "interpreter": {
    "hash": "34702dd390fd4fc9cf54421ef6e48a33a0e01434706512affc37171929b3d3dd"
   }
  }
 },
 "nbformat": 4,
 "nbformat_minor": 2
}
